{
 "cells": [
  {
   "cell_type": "code",
   "execution_count": 3,
   "id": "fa444632",
   "metadata": {},
   "outputs": [],
   "source": [
    "import torch\n",
    "from torch import nn\n",
    "from torchsummary import summary"
   ]
  },
  {
   "cell_type": "code",
   "execution_count": 4,
   "id": "cb1b2034",
   "metadata": {},
   "outputs": [],
   "source": [
    "\n",
    "norm_layer = nn.InstanceNorm2d\n",
    "class ResBlock(nn.Module):\n",
    "    def __init__(self, f):\n",
    "        super(ResBlock, self).__init__()\n",
    "        self.conv = nn.Sequential(nn.Conv2d(f, f, 3, 1, 1), norm_layer(f), nn.ReLU(),\n",
    "                                  nn.Conv2d(f, f, 3, 1, 1))\n",
    "        self.norm = norm_layer(f)\n",
    "    def forward(self, x):\n",
    "        return F.relu(self.norm(self.conv(x)+x))\n",
    "\n",
    "class Generator(nn.Module):\n",
    "    def __init__(self, f=64, blocks=6):\n",
    "        super(Generator, self).__init__()\n",
    "        layers = [nn.ReflectionPad2d(3),\n",
    "                  nn.Conv2d(  3,   f, 7, 1, 0), norm_layer(  f), nn.ReLU(True),\n",
    "                  nn.Conv2d(  f, 2*f, 3, 2, 1), norm_layer(2*f), nn.ReLU(True),\n",
    "                  nn.Conv2d(2*f, 4*f, 3, 2, 1), norm_layer(4*f), nn.ReLU(True)]\n",
    "        for i in range(int(blocks)):\n",
    "            layers.append(ResBlock(4*f))\n",
    "        layers.extend([\n",
    "                nn.ConvTranspose2d(4*f, 4*2*f, 3, 1, 1), nn.PixelShuffle(2), norm_layer(2*f), nn.ReLU(True),\n",
    "                nn.ConvTranspose2d(2*f,   4*f, 3, 1, 1), nn.PixelShuffle(2), norm_layer(  f), nn.ReLU(True),\n",
    "                nn.ReflectionPad2d(3), nn.Conv2d(f, 3, 7, 1, 0),\n",
    "                nn.Tanh()])\n",
    "        self.conv = nn.Sequential(*layers)\n",
    "        \n",
    "    def forward(self, x):\n",
    "        return self.conv(x)"
   ]
  },
  {
   "cell_type": "code",
   "execution_count": 5,
   "id": "3c155829",
   "metadata": {},
   "outputs": [],
   "source": [
    "G= Generator()"
   ]
  },
  {
   "cell_type": "code",
   "execution_count": null,
   "id": "c2f5b659",
   "metadata": {},
   "outputs": [],
   "source": []
  }
 ],
 "metadata": {
  "kernelspec": {
   "display_name": "Python 3",
   "language": "python",
   "name": "python3"
  },
  "language_info": {
   "codemirror_mode": {
    "name": "ipython",
    "version": 3
   },
   "file_extension": ".py",
   "mimetype": "text/x-python",
   "name": "python",
   "nbconvert_exporter": "python",
   "pygments_lexer": "ipython3",
   "version": "3.9.2"
  }
 },
 "nbformat": 4,
 "nbformat_minor": 5
}
